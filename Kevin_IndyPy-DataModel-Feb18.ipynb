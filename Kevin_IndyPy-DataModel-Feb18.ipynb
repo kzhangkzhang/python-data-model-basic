{
 "cells": [
  {
   "cell_type": "markdown",
   "metadata": {},
   "source": [
    "# I manually created this file by watch youtube\n",
    "\n",
    "https://www.youtube.com/watch?v=ZYdCDUfnVtk"
   ]
  },
  {
   "cell_type": "markdown",
   "metadata": {},
   "source": [
    "https://docs.python.org/3/reference/datamodel.html\n",
    "\n",
    "## Yes, At first glance it looks intimidating, but a little effor will return handsome rewards"
   ]
  },
  {
   "cell_type": "code",
   "execution_count": 1,
   "metadata": {},
   "outputs": [],
   "source": [
    "%matplotlib inline\n",
    "\n",
    "import matplotlib\n",
    "import numpy as np\n",
    "import matplotlib.pyplot as plt\n",
    "\n",
    "import random"
   ]
  },
  {
   "cell_type": "markdown",
   "metadata": {},
   "source": [
    "## A Simple object wo work with"
   ]
  },
  {
   "cell_type": "code",
   "execution_count": 19,
   "metadata": {},
   "outputs": [],
   "source": [
    "class Region():\n",
    "    \"\"\"\n",
    "    A Class to generate a number of random points on a specified interval\n",
    "    \n",
    "    Arugments:\n",
    "    region -- a tuple specifying the high and low sampling bounds; inclusive\n",
    "    cnt    -- number of points to generate\n",
    "    \n",
    "    Points are selected randomly (uniform distribution) between interval bounds\n",
    "    \"\"\"\n",
    "    \n",
    "    def __init__(self, region, cnt):\n",
    "        \"\"\"How to build one.\"\"\"\n",
    "        self._region  = region\n",
    "        self._cnt     = cnt\n",
    "        self._samples = []\n",
    "        lo, hi        = region\n",
    "        for i in range(cnt):\n",
    "            self._samples.append(random.uniform(lo, hi))\n",
    "            \n",
    "    def __iter__(self):\n",
    "        \"\"\"What to do for things like 'for ...' loop \"\"\"\n",
    "        for s in self._samples:\n",
    "            # https://stackoverflow.com/questions/231767/what-does-the-yield-keyword-do\n",
    "            yield s\n",
    "        return\n",
    "    \n",
    "    def __str__(self):\n",
    "        \"\"\"What to do when asked to display one\"\"\"\n",
    "        rep = \"-- region --\\n\"\n",
    "        rep += str(self._region) + \"\\n\"\n",
    "        rep += \"-- samples --\\n\"\n",
    "        rep += str(self._samples) + \"\\n\"\n",
    "        rep += \"-- point count --\\n\"\n",
    "        rep += str(self._cnt) + \"\\n\"\n",
    "        \n",
    "        return(rep)\n",
    "    \n",
    "    def __len__(self):\n",
    "        \"\"\"What to do when 'len()' is called on once.\"\"\"\n",
    "        return(self._cnt)\n",
    "    \n",
    "    def __call__(self):\n",
    "        \"\"\"What to do when r=Region(..); r()\"\"\"\n",
    "        return(self._samples)\n",
    "    \n",
    "    def __getitem__(self, idx):\n",
    "        \"\"\"What to do when: r = Region(..); r[idx]\"\"\"\n",
    "        if ((idx < 0) or (idx > self._cnt)):\n",
    "            raise IndexError(\"Region: index out of bounds\")\n",
    "        return(self._samples[idx])"
   ]
  },
  {
   "cell_type": "markdown",
   "metadata": {},
   "source": [
    "## Through the magic of the double underscore or dunder methods we can specify what python should do (meaning; semantics) when it encounters certain common syntactical elements. I'll show what I mean by this.\n",
    "\n",
    "## BTW, I've only defined a few and there are lots of the 'dunder' methods available but time is short ..."
   ]
  },
  {
   "cell_type": "code",
   "execution_count": 14,
   "metadata": {},
   "outputs": [
    {
     "name": "stdout",
     "output_type": "stream",
     "text": [
      "Help on class Region in module __main__:\n",
      "\n",
      "class Region(builtins.object)\n",
      " |  A Class to generate a number of random points on a specified interval\n",
      " |  \n",
      " |  Arugments:\n",
      " |  region -- a tuple specifying the high and low sampling bounds; inclusive\n",
      " |  cnt    -- number of points to generate\n",
      " |  \n",
      " |  Points are selected randomly (uniform distribution) between interval bounds\n",
      " |  \n",
      " |  Methods defined here:\n",
      " |  \n",
      " |  __call__(self)\n",
      " |      What to do when r=Region(..); r()\n",
      " |  \n",
      " |  __getitem__(self, idx)\n",
      " |      What to do when: r = Region(..); r[idx]\n",
      " |  \n",
      " |  __init__(self, region, cnt)\n",
      " |      How to build one.\n",
      " |  \n",
      " |  __iter__(self)\n",
      " |      What to do for things like 'for ...' loop\n",
      " |  \n",
      " |  __len__(self)\n",
      " |      What to do when 'len()' is called on once.\n",
      " |  \n",
      " |  __str__(self)\n",
      " |      What to do when asked to display one\n",
      " |  \n",
      " |  ----------------------------------------------------------------------\n",
      " |  Data descriptors defined here:\n",
      " |  \n",
      " |  __dict__\n",
      " |      dictionary for instance variables (if defined)\n",
      " |  \n",
      " |  __weakref__\n",
      " |      list of weak references to the object (if defined)\n",
      "\n"
     ]
    }
   ],
   "source": [
    "help(Region)"
   ]
  },
  {
   "cell_type": "markdown",
   "metadata": {},
   "source": [
    "## Also, let's make a default object to see what the 'out of box' behavior is."
   ]
  },
  {
   "cell_type": "code",
   "execution_count": 15,
   "metadata": {},
   "outputs": [],
   "source": [
    "class Thing():\n",
    "    pass"
   ]
  },
  {
   "cell_type": "markdown",
   "metadata": {},
   "source": [
    "## Now, let's make a couple of these objects"
   ]
  },
  {
   "cell_type": "code",
   "execution_count": 20,
   "metadata": {},
   "outputs": [],
   "source": [
    "t = Thing()\n",
    "r = Region((0,2), 3)"
   ]
  },
  {
   "cell_type": "markdown",
   "metadata": {},
   "source": [
    "## Now, what? Let's try and print them."
   ]
  },
  {
   "cell_type": "code",
   "execution_count": 17,
   "metadata": {},
   "outputs": [
    {
     "name": "stdout",
     "output_type": "stream",
     "text": [
      "<__main__.Thing object at 0x00000274FFCD4978>\n"
     ]
    }
   ],
   "source": [
    "print(t)"
   ]
  },
  {
   "cell_type": "code",
   "execution_count": 21,
   "metadata": {},
   "outputs": [
    {
     "name": "stdout",
     "output_type": "stream",
     "text": [
      "-- region --\n",
      "(0, 2)\n",
      "-- samples --\n",
      "[1.7505239290639825, 1.4072942278213767, 1.808429409847983]\n",
      "-- point count --\n",
      "3\n",
      "\n"
     ]
    }
   ],
   "source": [
    "print(r)"
   ]
  },
  {
   "cell_type": "markdown",
   "metadata": {},
   "source": [
    "## This is the '__str()__' method at works.\n",
    "\n",
    "## It's up to a composite to object to specify it's length by defining the __len__() method; for some objects it makes no sense to do so. But Region does define it so ..."
   ]
  },
  {
   "cell_type": "code",
   "execution_count": 22,
   "metadata": {},
   "outputs": [
    {
     "ename": "TypeError",
     "evalue": "object of type 'Thing' has no len()",
     "output_type": "error",
     "traceback": [
      "\u001b[1;31m---------------------------------------------------------------------------\u001b[0m",
      "\u001b[1;31mTypeError\u001b[0m                                 Traceback (most recent call last)",
      "\u001b[1;32m<ipython-input-22-3941e0efbbc0>\u001b[0m in \u001b[0;36m<module>\u001b[1;34m()\u001b[0m\n\u001b[1;32m----> 1\u001b[1;33m \u001b[0mlen\u001b[0m\u001b[1;33m(\u001b[0m\u001b[0mt\u001b[0m\u001b[1;33m)\u001b[0m\u001b[1;33m\u001b[0m\u001b[0m\n\u001b[0m",
      "\u001b[1;31mTypeError\u001b[0m: object of type 'Thing' has no len()"
     ]
    }
   ],
   "source": [
    "len(t)"
   ]
  },
  {
   "cell_type": "code",
   "execution_count": 23,
   "metadata": {},
   "outputs": [
    {
     "data": {
      "text/plain": [
       "3"
      ]
     },
     "execution_count": 23,
     "metadata": {},
     "output_type": "execute_result"
    }
   ],
   "source": [
    "len(r)"
   ]
  },
  {
   "cell_type": "markdown",
   "metadata": {},
   "source": [
    "## Since Region has a length it would see to make sense to be able to iterate over it. Iteration is enabled bgy defining the __iter__() method."
   ]
  },
  {
   "cell_type": "code",
   "execution_count": 24,
   "metadata": {},
   "outputs": [
    {
     "name": "stdout",
     "output_type": "stream",
     "text": [
      "1.7505239290639825\n",
      "1.4072942278213767\n",
      "1.808429409847983\n"
     ]
    }
   ],
   "source": [
    "for p in r:\n",
    "    print(p)"
   ]
  },
  {
   "cell_type": "markdown",
   "metadata": {},
   "source": [
    "## Region also specifies __getitem__(), we can index it."
   ]
  },
  {
   "cell_type": "code",
   "execution_count": 25,
   "metadata": {},
   "outputs": [
    {
     "data": {
      "text/plain": [
       "1.7505239290639825"
      ]
     },
     "execution_count": 25,
     "metadata": {},
     "output_type": "execute_result"
    }
   ],
   "source": [
    "r[0]"
   ]
  },
  {
   "cell_type": "code",
   "execution_count": 26,
   "metadata": {},
   "outputs": [
    {
     "ename": "IndexError",
     "evalue": "Region: index out of bounds",
     "output_type": "error",
     "traceback": [
      "\u001b[1;31m---------------------------------------------------------------------------\u001b[0m",
      "\u001b[1;31mIndexError\u001b[0m                                Traceback (most recent call last)",
      "\u001b[1;32m<ipython-input-26-c8d16d6c5b5e>\u001b[0m in \u001b[0;36m<module>\u001b[1;34m()\u001b[0m\n\u001b[1;32m----> 1\u001b[1;33m \u001b[0mr\u001b[0m\u001b[1;33m[\u001b[0m\u001b[1;36m4\u001b[0m\u001b[1;33m]\u001b[0m\u001b[1;33m\u001b[0m\u001b[0m\n\u001b[0m",
      "\u001b[1;32m<ipython-input-19-14628a0b94cf>\u001b[0m in \u001b[0;36m__getitem__\u001b[1;34m(self, idx)\u001b[0m\n\u001b[0;32m     48\u001b[0m         \u001b[1;34m\"\"\"What to do when: r = Region(..); r[idx]\"\"\"\u001b[0m\u001b[1;33m\u001b[0m\u001b[0m\n\u001b[0;32m     49\u001b[0m         \u001b[1;32mif\u001b[0m \u001b[1;33m(\u001b[0m\u001b[1;33m(\u001b[0m\u001b[0midx\u001b[0m \u001b[1;33m<\u001b[0m \u001b[1;36m0\u001b[0m\u001b[1;33m)\u001b[0m \u001b[1;32mor\u001b[0m \u001b[1;33m(\u001b[0m\u001b[0midx\u001b[0m \u001b[1;33m>\u001b[0m \u001b[0mself\u001b[0m\u001b[1;33m.\u001b[0m\u001b[0m_cnt\u001b[0m\u001b[1;33m)\u001b[0m\u001b[1;33m)\u001b[0m\u001b[1;33m:\u001b[0m\u001b[1;33m\u001b[0m\u001b[0m\n\u001b[1;32m---> 50\u001b[1;33m             \u001b[1;32mraise\u001b[0m \u001b[0mIndexError\u001b[0m\u001b[1;33m(\u001b[0m\u001b[1;34m\"Region: index out of bounds\"\u001b[0m\u001b[1;33m)\u001b[0m\u001b[1;33m\u001b[0m\u001b[0m\n\u001b[0m\u001b[0;32m     51\u001b[0m         \u001b[1;32mreturn\u001b[0m\u001b[1;33m(\u001b[0m\u001b[0mself\u001b[0m\u001b[1;33m.\u001b[0m\u001b[0m_samples\u001b[0m\u001b[1;33m[\u001b[0m\u001b[0midx\u001b[0m\u001b[1;33m]\u001b[0m\u001b[1;33m)\u001b[0m\u001b[1;33m\u001b[0m\u001b[0m\n",
      "\u001b[1;31mIndexError\u001b[0m: Region: index out of bounds"
     ]
    }
   ],
   "source": [
    "r[4]"
   ]
  },
  {
   "cell_type": "markdown",
   "metadata": {},
   "source": [
    "## BTW, sometimes you want to leverage indexing semantics (e.g. obj[idx]) for something that doens't have anything to index."
   ]
  },
  {
   "cell_type": "code",
   "execution_count": 27,
   "metadata": {},
   "outputs": [],
   "source": [
    "class PowerTwo():\n",
    "    def __getitem__(self, idx):\n",
    "        return (2**idx)"
   ]
  },
  {
   "cell_type": "code",
   "execution_count": 28,
   "metadata": {},
   "outputs": [
    {
     "name": "stdout",
     "output_type": "stream",
     "text": [
      "2 8 1024 65536\n"
     ]
    }
   ],
   "source": [
    "p2 = PowerTwo()\n",
    "print(p2[1], p2[3], p2[10], p2[16])"
   ]
  },
  {
   "cell_type": "markdown",
   "metadata": {},
   "source": [
    "## But I disagree ...\n",
    "\n",
    "## By specifying a __call__() method we can specify what it means to call an instance."
   ]
  },
  {
   "cell_type": "code",
   "execution_count": 29,
   "metadata": {},
   "outputs": [
    {
     "data": {
      "text/plain": [
       "[1.7505239290639825, 1.4072942278213767, 1.808429409847983]"
      ]
     },
     "execution_count": 29,
     "metadata": {},
     "output_type": "execute_result"
    }
   ],
   "source": [
    "r()"
   ]
  },
  {
   "cell_type": "markdown",
   "metadata": {},
   "source": [
    "## Here we just return the sample lists."
   ]
  },
  {
   "cell_type": "markdown",
   "metadata": {},
   "source": [
    "## OK. Fine. Nice. So What?\n",
    "\n",
    "### let's define a simple function to compute the mean. The sum() function expects its argument to be an iterable."
   ]
  },
  {
   "cell_type": "code",
   "execution_count": 30,
   "metadata": {},
   "outputs": [],
   "source": [
    "def mean(x):\n",
    "    return sum(x)/len(x)"
   ]
  },
  {
   "cell_type": "code",
   "execution_count": 31,
   "metadata": {},
   "outputs": [
    {
     "data": {
      "text/plain": [
       "2.0"
      ]
     },
     "execution_count": 31,
     "metadata": {},
     "output_type": "execute_result"
    }
   ],
   "source": [
    "l = [1,2,3]\n",
    "mean(l)"
   ]
  },
  {
   "cell_type": "markdown",
   "metadata": {},
   "source": [
    "## Region instances are iterable too because they have the iter() method. So mean() will also work for them."
   ]
  },
  {
   "cell_type": "code",
   "execution_count": 34,
   "metadata": {},
   "outputs": [
    {
     "data": {
      "text/plain": [
       "0.5297952672082007"
      ]
     },
     "execution_count": 34,
     "metadata": {},
     "output_type": "execute_result"
    }
   ],
   "source": [
    "r = Region((0,1), 400)\n",
    "#print(r)\n",
    "mean(r)"
   ]
  },
  {
   "cell_type": "markdown",
   "metadata": {},
   "source": [
    "## Turns out that expecting arguments to be iterable is very very common. Here plot() has no idea of the composition of Region instances but things work just as we would expects"
   ]
  },
  {
   "cell_type": "code",
   "execution_count": 35,
   "metadata": {},
   "outputs": [
    {
     "data": {
      "text/plain": [
       "[<matplotlib.lines.Line2D at 0x27480fe4fd0>]"
      ]
     },
     "execution_count": 35,
     "metadata": {},
     "output_type": "execute_result"
    },
    {
     "data": {
      "image/png": "[encoded data removed]",
      "text/plain": [
       "<Figure size 432x288 with 1 Axes>"
      ]
     },
     "metadata": {},
     "output_type": "display_data"
    }
   ],
   "source": [
    "plt.plot(r)"
   ]
  },
  {
   "cell_type": "markdown",
   "metadata": {},
   "source": [
    "## So an object that behaves reasonably allows you to leverage pretty much everything you love about Python without really knowing the details about the object.\n",
    "\n",
    "## That coupled with jupyter notebooks gives you some very power tooling!"
   ]
  },
  {
   "cell_type": "code",
   "execution_count": null,
   "metadata": {},
   "outputs": [],
   "source": []
  }
 ],
 "metadata": {
  "kernelspec": {
   "display_name": "Python 3",
   "language": "python",
   "name": "python3"
  },
  "language_info": {
   "codemirror_mode": {
    "name": "ipython",
    "version": 3
   },
   "file_extension": ".py",
   "mimetype": "text/x-python",
   "name": "python",
   "nbconvert_exporter": "python",
   "pygments_lexer": "ipython3",
   "version": "3.6.5"
  }
 },
 "nbformat": 4,
 "nbformat_minor": 2
}
